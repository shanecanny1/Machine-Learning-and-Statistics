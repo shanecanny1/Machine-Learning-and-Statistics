{
 "cells": [
  {
   "cell_type": "markdown",
   "metadata": {},
   "source": [
    "My Test NoteBook"
   ]
  },
  {
   "cell_type": "code",
   "execution_count": 5,
   "metadata": {},
   "outputs": [
    {
     "name": "stdout",
     "output_type": "stream",
     "text": [
      "4 10\n",
      "4 10\n",
      "4 10\n",
      "4 10\n",
      "4 10\n",
      "4 10\n",
      "4 10\n",
      "4 10\n",
      "4 10\n",
      "4 10\n",
      "4 10\n",
      "4 10\n",
      "4 10\n",
      "4 10\n",
      "4 10\n",
      "4 10\n",
      "4 10\n",
      "4 10\n",
      "4 10\n",
      "4 10\n"
     ]
    }
   ],
   "source": [
    "a=4\n",
    "y=10\n",
    "\n",
    "for i in range(20):\n",
    "    print(a,y)"
   ]
  },
  {
   "cell_type": "code",
   "execution_count": null,
   "metadata": {},
   "outputs": [],
   "source": []
  }
 ],
 "metadata": {
  "kernelspec": {
   "display_name": "Python 3",
   "language": "python",
   "name": "python3"
  },
  "language_info": {
   "codemirror_mode": {
    "name": "ipython",
    "version": 3
   },
   "file_extension": ".py",
   "mimetype": "text/x-python",
   "name": "python",
   "nbconvert_exporter": "python",
   "pygments_lexer": "ipython3",
   "version": "3.7.3"
  }
 },
 "nbformat": 4,
 "nbformat_minor": 4
}
